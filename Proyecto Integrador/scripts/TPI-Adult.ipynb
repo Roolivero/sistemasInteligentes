{
 "cells": [
  {
   "cell_type": "markdown",
   "id": "975618df",
   "metadata": {},
   "source": []
  },
  {
   "cell_type": "code",
   "execution_count": null,
   "id": "cfba957d",
   "metadata": {},
   "outputs": [
    {
     "name": "stderr",
     "output_type": "stream",
     "text": [
      "/tmp/ipykernel_130459/882863311.py:5: ParserWarning: Falling back to the 'python' engine because the 'c' engine does not support regex separators (separators > 1 char and different from '\\s+' are interpreted as regex); you can avoid this warning by specifying engine='python'.\n",
      "  df = pd.read_csv('datos/adult.data', sep=', ', header=None)\n"
     ]
    },
    {
     "name": "stdout",
     "output_type": "stream",
     "text": [
      "Total de valores faltantes: 4262\n",
      "Total de valores faltantes: 24\n"
     ]
    },
    {
     "data": {
      "text/plain": [
       "np.int64(24)"
      ]
     },
     "execution_count": 24,
     "metadata": {},
     "output_type": "execute_result"
    }
   ],
   "source": [
    "import pandas as pd\n",
    "\n",
    "df = pd.read_csv('datos/adult.data', sep=', ', header=None)\n",
    "\n",
    "def contar_faltantes(dataframe):\n",
    "    contarFaltantes = 0\n",
    "    for index, fila in dataframe.iterrows():\n",
    "        for dato in fila:\n",
    "            if dato == '?':\n",
    "                contarFaltantes +=1\n",
    "    print(f'Total de valores faltantes: {contarFaltantes}') \n",
    "    return contarFaltantes\n",
    "        \n",
    "def contar_repetidas(dataframe):\n",
    "    contarRepetidas = df.duplicated().sum()\n",
    "    print(f'Total de valores faltantes: {contarRepetidas}') \n",
    "    return contarRepetidas\n",
    "\n",
    "#MAIN\n",
    "contar_faltantes(df)\n",
    "contar_repetidas(df)\n"
   ]
  },
  {
   "cell_type": "code",
   "execution_count": null,
   "id": "a7adeb8a",
   "metadata": {},
   "outputs": [],
   "source": [
    "import pandas as pd\n",
    "\n",
    "df = pd.read_csv('datos/adult.data', sep=', ', header=None)\n",
    "\n"
   ]
  }
 ],
 "metadata": {
  "kernelspec": {
   "display_name": "proyecto-integrador-py3.13 (3.13.7)",
   "language": "python",
   "name": "python3"
  },
  "language_info": {
   "codemirror_mode": {
    "name": "ipython",
    "version": 3
   },
   "file_extension": ".py",
   "mimetype": "text/x-python",
   "name": "python",
   "nbconvert_exporter": "python",
   "pygments_lexer": "ipython3",
   "version": "3.13.7"
  }
 },
 "nbformat": 4,
 "nbformat_minor": 5
}
